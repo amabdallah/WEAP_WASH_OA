{
 "cells": [
  {
   "cell_type": "markdown",
   "metadata": {},
   "source": [
    "# OpenAgua to WaMDaM to WASH\n",
    "#### By Adel M. Abdallah, Utah State University, December 2018\n",
    "\n",
    "Execute the following cells by pressing `Shift-Enter`, or by pressing the play button <img style='display:inline;padding-bottom:15px' src='play-button.png'> on the toolbar above.\n"
   ]
  },
  {
   "cell_type": "markdown",
   "metadata": {},
   "source": [
    "# Serve new imported input data from OA into GDX through WaMDaM"
   ]
  },
  {
   "cell_type": "markdown",
   "metadata": {},
   "source": [
    "# 1. Import python libraries\n"
   ]
  },
  {
   "cell_type": "code",
   "execution_count": 1,
   "metadata": {
    "collapsed": false
   },
   "outputs": [
    {
     "data": {
      "text/html": [
       "<script>requirejs.config({paths: { 'plotly': ['https://cdn.plot.ly/plotly-latest.min']},});if(!window.Plotly) {{require(['plotly'],function(plotly) {window.Plotly=plotly;});}}</script>"
      ],
      "text/vnd.plotly.v1+html": [
       "<script>requirejs.config({paths: { 'plotly': ['https://cdn.plot.ly/plotly-latest.min']},});if(!window.Plotly) {{require(['plotly'],function(plotly) {window.Plotly=plotly;});}}</script>"
      ]
     },
     "metadata": {},
     "output_type": "display_data"
    },
    {
     "data": {
      "text/html": [
       "<script>requirejs.config({paths: { 'plotly': ['https://cdn.plot.ly/plotly-latest.min']},});if(!window.Plotly) {{require(['plotly'],function(plotly) {window.Plotly=plotly;});}}</script>"
      ],
      "text/vnd.plotly.v1+html": [
       "<script>requirejs.config({paths: { 'plotly': ['https://cdn.plot.ly/plotly-latest.min']},});if(!window.Plotly) {{require(['plotly'],function(plotly) {window.Plotly=plotly;});}}</script>"
      ]
     },
     "metadata": {},
     "output_type": "display_data"
    },
    {
     "name": "stderr",
     "output_type": "stream",
     "text": [
      "No handlers could be found for logger \"gdxpds\"\n"
     ]
    },
    {
     "name": "stdout",
     "output_type": "stream",
     "text": [
      "The needed Python libraries have been imported\n"
     ]
    }
   ],
   "source": [
    "# 1. Import python libraries \n",
    "### set the notebook mode to embed the figures within the cell\n",
    "\n",
    "import sqlite3\n",
    "import numpy as np\n",
    "import pandas as pd\n",
    "import getpass\n",
    "from hs_restclient import HydroShare, HydroShareAuthBasic\n",
    "import os\n",
    "\n",
    "import plotly\n",
    "plotly.__version__\n",
    "import plotly.offline as offline\n",
    "import plotly.graph_objs as go\n",
    "from plotly.offline import download_plotlyjs, init_notebook_mode, plot, iplot\n",
    "offline.init_notebook_mode(connected=True)\n",
    "from plotly.offline import init_notebook_mode, iplot\n",
    "from plotly.graph_objs import *\n",
    "\n",
    "init_notebook_mode(connected=True)         # initiate notebook for offline plot\n",
    "import sys\n",
    "from openpyxl import load_workbook\n",
    "\n",
    "import os\n",
    "import csv\n",
    "from collections import OrderedDict\n",
    "import sqlite3\n",
    "import pandas as pd\n",
    "import numpy as np\n",
    "from IPython.display import display, Image, SVG, Math, YouTubeVideo\n",
    "import urllib\n",
    "import calendar\n",
    "\n",
    "import sqlite3\n",
    "import pandas as pd\n",
    "# https://github.com/NREL/gdx-pandas\n",
    "from IPython.display import display, Image, SVG, Math, YouTubeVideo\n",
    "from openpyxl import load_workbook\n",
    "import gdxpds\n",
    "\n",
    "# ! pip install gdxpds\n",
    "# import gdxpds\n",
    "import gams\n",
    "from gams import *\n",
    "from ctypes import c_bool\n",
    "print 'The needed Python libraries have been imported'"
   ]
  },
  {
   "cell_type": "markdown",
   "metadata": {},
   "source": [
    "# 2. Connect to the WaMDaM SQLite on HydroShare\n",
    "### Provide the HydroShare ID for your resource\n",
    "Example  \n",
    "https://www.hydroshare.org/resource/8760f63a1f5545c380a3dd7ec847cb61/\n",
    " \n",
    "resource_id='85e9fe85b08244198995558fe7d0e294'"
   ]
  },
  {
   "cell_type": "code",
   "execution_count": 4,
   "metadata": {
    "collapsed": false
   },
   "outputs": [
    {
     "name": "stdout",
     "output_type": "stream",
     "text": [
      "Connected to HydroShare\n",
      "123b2781b73742a18bfadd21124c6194\n",
      "Resource title\n",
      "Final datasets\n",
      "----------------------------\n",
      "Connected to the SQLite file= WEAP_No_OA.sqlite\n",
      "done\n"
     ]
    }
   ],
   "source": [
    "username = 'amabdallah'\n",
    "password = 'MyHydroShareWorld'\n",
    "\n",
    "auth = HydroShareAuthBasic(username=username, password=password)\n",
    "\n",
    "hs = HydroShare(auth=auth)\n",
    "\n",
    "print 'Connected to HydroShare'\n",
    "\n",
    "# Then we can run queries against it within this notebook :)  \n",
    "resource_url='https://www.hydroshare.org/resource/123b2781b73742a18bfadd21124c6194/' \n",
    "\n",
    "\n",
    "resource_id= resource_url.split(\"https://www.hydroshare.org/resource/\",1)[1] \n",
    "resource_id=resource_id.replace('/','')\n",
    "\n",
    "print resource_id\n",
    "\n",
    "resource_md = hs.getSystemMetadata(resource_id)\n",
    "# print resource_md\n",
    "print 'Resource title'\n",
    "print(resource_md['resource_title'])\n",
    "print '----------------------------'\n",
    "\n",
    "resources=hs.resource(resource_id).files.all()\n",
    "\n",
    "file = \"\"\n",
    "\n",
    "for f in hs.resource(resource_id).files.all():\n",
    "\n",
    "    file += f.decode('utf8')\n",
    "\n",
    "import json\n",
    "\n",
    "file_json = json.loads(file)\n",
    "\n",
    "for f in file_json[\"results\"]:\n",
    "\n",
    "    FileURL= f[\"url\"]\n",
    "    \n",
    "    SQLiteFileName=FileURL.split(\"contents/\",1)[1] \n",
    "\n",
    "cwd = os.getcwd()\n",
    "\n",
    "\n",
    "conn = sqlite3.connect(SQLiteFileName,timeout=10)\n",
    "\n",
    "print 'Connected to the SQLite file= '+ SQLiteFileName\n",
    "print 'done'"
   ]
  },
  {
   "cell_type": "markdown",
   "metadata": {},
   "source": [
    "# Connect to SQLite file locallay"
   ]
  },
  {
   "cell_type": "code",
   "execution_count": null,
   "metadata": {
    "collapsed": true
   },
   "outputs": [],
   "source": [
    "\n",
    "# the SQLite file is published here \n",
    "#https://github.com/WamdamProject/WaMDaM_UseCases/blob/master/UseCases_files/3SQLite_database/BearRiverDatasets_June_2018.sqlite\n",
    "\n",
    "WaMDaM_SQLite_Name='WASH_OneYear.sqlite'\n",
    "# WaMDaM_SQLite_Name='replicateWaMDaM.sqlite'\n",
    "\n",
    "# Test if the connection works \n",
    "conn = sqlite3.connect(WaMDaM_SQLite_Name)\n",
    "df = pd.read_sql_query(\"SELECT ResourceTypeAcronym   FROM ResourceTypes Limit 1 \", conn)\n",
    "print df\n",
    "                       \n",
    "print '--------------------'                        \n",
    "print '\\n Connected to the WaMDaM SQLite file called'+': '+ WaMDaM_SQLite_Name"
   ]
  },
  {
   "cell_type": "markdown",
   "metadata": {},
   "source": [
    "# Query the seasonal data from WaMdaM into a dataframe to write to GDX "
   ]
  },
  {
   "cell_type": "code",
   "execution_count": null,
   "metadata": {
    "collapsed": false
   },
   "outputs": [],
   "source": [
    "# The query has hard coded input parameters\n",
    "\n",
    "\n",
    "# 2.2Identify_aggregate_TimeSeriesValues.csv\n",
    "Query_UseCase_URL=\"\"\"https://raw.githubusercontent.com/WamdamProject/WaMDaM_JupyterNotebooks/master/3_VisualizeShare/WASH/Query_demand_seasonal.sql\n",
    "\"\"\"\n",
    "\n",
    "# Read the query text inside the URL\n",
    "Query_UseCase_text = urllib.urlopen(Query_UseCase_URL).read()\n",
    "\n",
    "\n",
    "# return query result in a pandas data frame\n",
    "df_Seasonal_WaMDaM= pd.read_sql_query(Query_UseCase_text, conn)\n",
    "\n",
    "\n",
    "display (df_Seasonal_WaMDaM)"
   ]
  },
  {
   "cell_type": "markdown",
   "metadata": {},
   "source": [
    "# Preapre it to Excel"
   ]
  },
  {
   "cell_type": "code",
   "execution_count": null,
   "metadata": {
    "collapsed": false
   },
   "outputs": [],
   "source": [
    "Instance=df_Seasonal_WaMDaM['InstanceName'][1]\n",
    "print Instance"
   ]
  },
  {
   "cell_type": "code",
   "execution_count": 90,
   "metadata": {
    "collapsed": false
   },
   "outputs": [],
   "source": [
    "df=df_Seasonal_WaMDaM.loc[:, 'SeasonName':'SeasonNumericValue'].T\n",
    "\n",
    "df=df.loc['SeasonNumericValue':, ]\n"
   ]
  },
  {
   "cell_type": "code",
   "execution_count": 91,
   "metadata": {
    "collapsed": false
   },
   "outputs": [
    {
     "name": "stdout",
     "output_type": "stream",
     "text": [
      "done writing the value to WASH excel file\n"
     ]
    }
   ],
   "source": [
    "WASH_ExcelFile='WASH_1yr_InputData.xlsx'\n",
    "sheetname='demandReq'\n",
    "#\n",
    "book = load_workbook(WASH_ExcelFile)\n",
    "\n",
    "UpdateDemand = book[sheetname]\n",
    "i =0\n",
    "for index, row in df.iterrows():\n",
    "    for j, column in row.iteritems():\n",
    "        UpdateDemand.cell(row=i+2, column=j+2, value=float(column))\n",
    "    i += 1\n",
    "book.save(WASH_ExcelFile)\n",
    "\n",
    "print 'done writing the value to WASH excel file'"
   ]
  },
  {
   "cell_type": "markdown",
   "metadata": {},
   "source": [
    "# Read the WASH Area objective function value"
   ]
  },
  {
   "cell_type": "code",
   "execution_count": 92,
   "metadata": {
    "collapsed": false
   },
   "outputs": [
    {
     "name": "stdout",
     "output_type": "stream",
     "text": [
      "Z=122105.014036\n"
     ]
    }
   ],
   "source": [
    "gdx_file = 'C:\\Users\\Adel\\Documents\\GitHub\\WEAP_WASH_OA\\WASH-solution.gdx'\n",
    "with gdxpds.gdx.GdxFile(lazy_load=False) as f:\n",
    "    f.read(gdx_file)\n",
    "    for symbol in f:\n",
    "        symbol_name = symbol.name\n",
    "        if symbol_name=='Z':  \n",
    "            df = symbol.dataframe\n",
    "            Zvalue=str(df.iloc[0]['Level'])\n",
    "            print \"Z=\"+ Zvalue\n"
   ]
  },
  {
   "cell_type": "code",
   "execution_count": null,
   "metadata": {
    "collapsed": true
   },
   "outputs": [],
   "source": [
    "Z=121526.58605\n"
   ]
  },
  {
   "cell_type": "code",
   "execution_count": null,
   "metadata": {
    "collapsed": true
   },
   "outputs": [],
   "source": [
    "Z=121384.065505\n",
    "\n",
    "Z=122105.014036\n"
   ]
  },
  {
   "cell_type": "code",
   "execution_count": null,
   "metadata": {
    "collapsed": false
   },
   "outputs": [],
   "source": [
    "import os\n",
    "# os.path.dirname(os.path.abspath(__file__))\n",
    "\n",
    "command=\"\"\"start cmd cd C:\\GAMS\\win64/24.7 & gams.exe WASH-CEE6410\"\"\"\n",
    "\n",
    "var=os.system(command)\n",
    "print var\n"
   ]
  },
  {
   "cell_type": "markdown",
   "metadata": {},
   "source": [
    "# Execute GAMS (Before and after update)\n",
    "https://www.gams.com/latest/docs/API_PY_TUTORIAL.html"
   ]
  },
  {
   "cell_type": "code",
   "execution_count": null,
   "metadata": {
    "collapsed": false
   },
   "outputs": [],
   "source": [
    "from gams import *"
   ]
  },
  {
   "cell_type": "code",
   "execution_count": null,
   "metadata": {
    "collapsed": false
   },
   "outputs": [],
   "source": [
    "! conda install -c goop gams "
   ]
  },
  {
   "cell_type": "code",
   "execution_count": 108,
   "metadata": {
    "collapsed": false
   },
   "outputs": [
    {
     "name": "stdout",
     "output_type": "stream",
     "text": [
      "24.5.6\n",
      "--- Warning: The GAMS version (24.2.3) differs from the API version (24.5.6).\n",
      "<gams.workspace.GamsWorkspace object at 0x0000000014518860>\n"
     ]
    },
    {
     "ename": "GamsExceptionExecution",
     "evalue": "GAMS return code not 0 (2), check C:\\Users\\Adel\\Documents\\GitHub\\WEAP_WASH_OA\\Test\\_gams_py_gjo0.lst for more details",
     "output_type": "error",
     "traceback": [
      "\u001b[0;31m---------------------------------------------------------------------------\u001b[0m",
      "\u001b[0;31mGamsExceptionExecution\u001b[0m                    Traceback (most recent call last)",
      "\u001b[0;32m<ipython-input-108-cfc2fde9f6a4>\u001b[0m in \u001b[0;36m<module>\u001b[0;34m()\u001b[0m\n\u001b[1;32m      5\u001b[0m \u001b[1;32mprint\u001b[0m \u001b[0mws\u001b[0m\u001b[1;33m\u001b[0m\u001b[0m\n\u001b[1;32m      6\u001b[0m \u001b[0mjob\u001b[0m \u001b[1;33m=\u001b[0m \u001b[0mws\u001b[0m\u001b[1;33m.\u001b[0m\u001b[0madd_job_from_file\u001b[0m\u001b[1;33m(\u001b[0m\u001b[1;34m\"C:\\Users\\Adel\\Documents\\GitHub\\WEAP_WASH_OA\\WASH-CEE6410.gms\"\u001b[0m\u001b[1;33m)\u001b[0m\u001b[1;33m\u001b[0m\u001b[0m\n\u001b[0;32m----> 7\u001b[0;31m \u001b[0mjob\u001b[0m\u001b[1;33m.\u001b[0m\u001b[0mrun\u001b[0m\u001b[1;33m(\u001b[0m\u001b[1;33m)\u001b[0m\u001b[1;33m\u001b[0m\u001b[0m\n\u001b[0m\u001b[1;32m      8\u001b[0m \u001b[0mGamsDatabase\u001b[0m \u001b[1;33m=\u001b[0m \u001b[0mjob\u001b[0m\u001b[1;33m.\u001b[0m\u001b[0mout_db\u001b[0m\u001b[1;33m\u001b[0m\u001b[0m\n",
      "\u001b[0;32mC:\\Users\\Adel\\Anaconda2\\lib\\site-packages\\gams\\execution.pyd\u001b[0m in \u001b[0;36mgams.execution.GamsJob.run (execution.c:14180)\u001b[0;34m()\u001b[0m\n",
      "\u001b[0;31mGamsExceptionExecution\u001b[0m: GAMS return code not 0 (2), check C:\\Users\\Adel\\Documents\\GitHub\\WEAP_WASH_OA\\Test\\_gams_py_gjo0.lst for more details"
     ]
    }
   ],
   "source": [
    "version = GamsWorkspace.api_version\n",
    "print version\n",
    "ws = GamsWorkspace('Test')\n",
    "# ws = GamsWorkspace(debug=DebugLevel.KeepFiles)\n",
    "print ws\n",
    "job = ws.add_job_from_file(\"C:\\Users\\Adel\\Documents\\GitHub\\WEAP_WASH_OA\\WASH-CEE6410.gms\")\n",
    "job.run()\n",
    "GamsDatabase = job.out_db"
   ]
  },
  {
   "cell_type": "code",
   "execution_count": 110,
   "metadata": {
    "collapsed": false
   },
   "outputs": [
    {
     "name": "stdout",
     "output_type": "stream",
     "text": [
      "--- Warning: The GAMS version (24.2.3) differs from the API version (24.5.6).\n"
     ]
    },
    {
     "ename": "GamsExceptionExecution",
     "evalue": "GAMS return code not 0 (2), set the debug flag of the GamsWorkspace constructor to DebugLevel.KeepFiles or higher or define a working_directory to receive a listing file with more details",
     "output_type": "error",
     "traceback": [
      "\u001b[0;31m---------------------------------------------------------------------------\u001b[0m",
      "\u001b[0;31mGamsExceptionExecution\u001b[0m                    Traceback (most recent call last)",
      "\u001b[0;32m<ipython-input-110-915a83ccd607>\u001b[0m in \u001b[0;36m<module>\u001b[0;34m()\u001b[0m\n\u001b[1;32m      1\u001b[0m \u001b[0mws\u001b[0m \u001b[1;33m=\u001b[0m \u001b[0mGamsWorkspace\u001b[0m\u001b[1;33m(\u001b[0m\u001b[1;33m)\u001b[0m\u001b[1;33m\u001b[0m\u001b[0m\n\u001b[1;32m      2\u001b[0m \u001b[0mjob\u001b[0m \u001b[1;33m=\u001b[0m \u001b[0mws\u001b[0m\u001b[1;33m.\u001b[0m\u001b[0madd_job_from_file\u001b[0m\u001b[1;33m(\u001b[0m\u001b[1;34m\"C:\\Users\\Adel\\Documents\\GitHub\\WEAP_WASH_OA\\WASH-CEE6410.gms\"\u001b[0m\u001b[1;33m)\u001b[0m\u001b[1;33m\u001b[0m\u001b[0m\n\u001b[0;32m----> 3\u001b[0;31m \u001b[0mjob\u001b[0m\u001b[1;33m.\u001b[0m\u001b[0mrun\u001b[0m\u001b[1;33m(\u001b[0m\u001b[1;33m)\u001b[0m\u001b[1;33m\u001b[0m\u001b[0m\n\u001b[0m\u001b[1;32m      4\u001b[0m \u001b[0mGamsDatabase\u001b[0m \u001b[1;33m=\u001b[0m \u001b[0mjob\u001b[0m\u001b[1;33m.\u001b[0m\u001b[0mout_db\u001b[0m\u001b[1;33m\u001b[0m\u001b[0m\n",
      "\u001b[0;32mC:\\Users\\Adel\\Anaconda2\\lib\\site-packages\\gams\\execution.pyd\u001b[0m in \u001b[0;36mgams.execution.GamsJob.run (execution.c:14102)\u001b[0;34m()\u001b[0m\n",
      "\u001b[0;31mGamsExceptionExecution\u001b[0m: GAMS return code not 0 (2), set the debug flag of the GamsWorkspace constructor to DebugLevel.KeepFiles or higher or define a working_directory to receive a listing file with more details"
     ]
    }
   ],
   "source": [
    "ws = GamsWorkspace()\n",
    "job = ws.add_job_from_file(\"C:\\Users\\Adel\\Documents\\GitHub\\WEAP_WASH_OA\\WASH-CEE6410.gms\")\n",
    "job.run()\n",
    "GamsDatabase = job.out_db"
   ]
  },
  {
   "cell_type": "code",
   "execution_count": 111,
   "metadata": {
    "collapsed": false
   },
   "outputs": [
    {
     "ename": "GamsException",
     "evalue": "Invalid GAMS system directory: C:\\Users\\Adel\\Documents\\GitHub\\WEAP_WASH_OA\\-f",
     "output_type": "error",
     "traceback": [
      "\u001b[0;31m---------------------------------------------------------------------------\u001b[0m",
      "\u001b[0;31mGamsException\u001b[0m                             Traceback (most recent call last)",
      "\u001b[0;32m<ipython-input-111-37af09297acd>\u001b[0m in \u001b[0;36m<module>\u001b[0;34m()\u001b[0m\n\u001b[1;32m      1\u001b[0m \u001b[1;32mif\u001b[0m \u001b[0mlen\u001b[0m\u001b[1;33m(\u001b[0m\u001b[0msys\u001b[0m\u001b[1;33m.\u001b[0m\u001b[0margv\u001b[0m\u001b[1;33m)\u001b[0m \u001b[1;33m>\u001b[0m \u001b[1;36m1\u001b[0m\u001b[1;33m:\u001b[0m\u001b[1;33m\u001b[0m\u001b[0m\n\u001b[0;32m----> 2\u001b[0;31m     \u001b[0mws\u001b[0m \u001b[1;33m=\u001b[0m \u001b[0mGamsWorkspace\u001b[0m\u001b[1;33m(\u001b[0m\u001b[0msystem_directory\u001b[0m \u001b[1;33m=\u001b[0m \u001b[0msys\u001b[0m\u001b[1;33m.\u001b[0m\u001b[0margv\u001b[0m\u001b[1;33m[\u001b[0m\u001b[1;36m1\u001b[0m\u001b[1;33m]\u001b[0m\u001b[1;33m)\u001b[0m\u001b[1;33m\u001b[0m\u001b[0m\n\u001b[0m\u001b[1;32m      3\u001b[0m \u001b[1;32melse\u001b[0m\u001b[1;33m:\u001b[0m\u001b[1;33m\u001b[0m\u001b[0m\n\u001b[1;32m      4\u001b[0m     \u001b[0mws\u001b[0m \u001b[1;33m=\u001b[0m \u001b[0mGamsWorkspace\u001b[0m\u001b[1;33m(\u001b[0m\u001b[1;33m)\u001b[0m\u001b[1;33m\u001b[0m\u001b[0m\n",
      "\u001b[0;32mC:\\Users\\Adel\\Anaconda2\\lib\\site-packages\\gams\\workspace.pyd\u001b[0m in \u001b[0;36mgams.workspace.GamsWorkspace.__init__ (workspace.c:4240)\u001b[0;34m()\u001b[0m\n",
      "\u001b[0;31mGamsException\u001b[0m: Invalid GAMS system directory: C:\\Users\\Adel\\Documents\\GitHub\\WEAP_WASH_OA\\-f"
     ]
    }
   ],
   "source": [
    "if len(sys.argv) > 1:\n",
    "    ws = GamsWorkspace(system_directory = sys.argv[1])\n",
    "else:\n",
    "    ws = GamsWorkspace()"
   ]
  },
  {
   "cell_type": "code",
   "execution_count": 102,
   "metadata": {
    "collapsed": false
   },
   "outputs": [
    {
     "ename": "NameError",
     "evalue": "name 'GAMSWorkspace' is not defined",
     "output_type": "error",
     "traceback": [
      "\u001b[0;31m---------------------------------------------------------------------------\u001b[0m",
      "\u001b[0;31mNameError\u001b[0m                                 Traceback (most recent call last)",
      "\u001b[0;32m<ipython-input-102-49283f9f63d5>\u001b[0m in \u001b[0;36m<module>\u001b[0;34m()\u001b[0m\n\u001b[0;32m----> 1\u001b[0;31m GAMSWorkspace.GAMSWorkspace(workingDirectory = null,\n\u001b[0m\u001b[1;32m      2\u001b[0m \u001b[0msystemDirectory\u001b[0m \u001b[1;33m=\u001b[0m \u001b[0mnull\u001b[0m\u001b[1;33m,\u001b[0m\u001b[1;33m\u001b[0m\u001b[0m\n\u001b[1;32m      3\u001b[0m \u001b[0mDebugLevel\u001b[0m  \u001b[1;33m=\u001b[0m \u001b[0mDebugLevel\u001b[0m\u001b[1;33m.\u001b[0m\u001b[0mOff\u001b[0m\u001b[1;33m\u001b[0m\u001b[0m\n\u001b[1;32m      4\u001b[0m )\n",
      "\u001b[0;31mNameError\u001b[0m: name 'GAMSWorkspace' is not defined"
     ]
    }
   ],
   "source": [
    "GAMSWorkspace.GAMSWorkspace(workingDirectory = null,\n",
    "systemDirectory = null,\n",
    "DebugLevel  = DebugLevel.Off \n",
    ")"
   ]
  },
  {
   "cell_type": "code",
   "execution_count": null,
   "metadata": {
    "collapsed": true
   },
   "outputs": [],
   "source": []
  },
  {
   "cell_type": "code",
   "execution_count": null,
   "metadata": {
    "collapsed": true
   },
   "outputs": [],
   "source": []
  },
  {
   "cell_type": "code",
   "execution_count": 62,
   "metadata": {
    "collapsed": false
   },
   "outputs": [
    {
     "name": "stdout",
     "output_type": "stream",
     "text": [
      "Z=121526.58605\n"
     ]
    }
   ],
   "source": []
  },
  {
   "cell_type": "code",
   "execution_count": null,
   "metadata": {
    "collapsed": true
   },
   "outputs": [],
   "source": []
  }
 ],
 "metadata": {
  "kernelspec": {
   "display_name": "Python 2",
   "language": "python",
   "name": "python2"
  },
  "language_info": {
   "codemirror_mode": {
    "name": "ipython",
    "version": 2
   },
   "file_extension": ".py",
   "mimetype": "text/x-python",
   "name": "python",
   "nbconvert_exporter": "python",
   "pygments_lexer": "ipython2",
   "version": "2.7.13"
  }
 },
 "nbformat": 4,
 "nbformat_minor": 2
}
