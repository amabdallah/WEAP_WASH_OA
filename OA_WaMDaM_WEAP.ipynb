{
 "cells": [
  {
   "cell_type": "markdown",
   "metadata": {},
   "source": [
    "# Serve data from OpenAgua into WEAP using WaMDaM\n",
    "\n",
    "#### By Adel M. Abdallah, Utah State University, December 2018\n",
    "\n",
    "Execute the following cells by pressing `Shift-Enter`, or by pressing the play button <img style='display:inline;padding-bottom:15px' src='play-button.png'> on the toolbar above.\n",
    "\n"
   ]
  },
  {
   "cell_type": "markdown",
   "metadata": {},
   "source": [
    "<a name=\"Import\"></a>\n",
    "# 1. Import python libraries "
   ]
  },
  {
   "cell_type": "code",
   "execution_count": 1,
   "metadata": {
    "collapsed": false,
    "scrolled": true
   },
   "outputs": [
    {
     "data": {
      "text/html": [
       "<script>requirejs.config({paths: { 'plotly': ['https://cdn.plot.ly/plotly-latest.min']},});if(!window.Plotly) {{require(['plotly'],function(plotly) {window.Plotly=plotly;});}}</script>"
      ],
      "text/vnd.plotly.v1+html": [
       "<script>requirejs.config({paths: { 'plotly': ['https://cdn.plot.ly/plotly-latest.min']},});if(!window.Plotly) {{require(['plotly'],function(plotly) {window.Plotly=plotly;});}}</script>"
      ]
     },
     "metadata": {},
     "output_type": "display_data"
    },
    {
     "data": {
      "text/html": [
       "<script>requirejs.config({paths: { 'plotly': ['https://cdn.plot.ly/plotly-latest.min']},});if(!window.Plotly) {{require(['plotly'],function(plotly) {window.Plotly=plotly;});}}</script>"
      ],
      "text/vnd.plotly.v1+html": [
       "<script>requirejs.config({paths: { 'plotly': ['https://cdn.plot.ly/plotly-latest.min']},});if(!window.Plotly) {{require(['plotly'],function(plotly) {window.Plotly=plotly;});}}</script>"
      ]
     },
     "metadata": {},
     "output_type": "display_data"
    },
    {
     "name": "stdout",
     "output_type": "stream",
     "text": [
      "The needed Python libraries have been imported\n"
     ]
    }
   ],
   "source": [
    "# 1. Import python libraries \n",
    "### set the notebook mode to embed the figures within the cell\n",
    "\n",
    "import sqlite3\n",
    "import numpy as np\n",
    "import pandas as pd\n",
    "import getpass\n",
    "from hs_restclient import HydroShare, HydroShareAuthBasic\n",
    "import os\n",
    "\n",
    "import plotly\n",
    "plotly.__version__\n",
    "import plotly.offline as offline\n",
    "import plotly.graph_objs as go\n",
    "from plotly.offline import download_plotlyjs, init_notebook_mode, plot, iplot\n",
    "offline.init_notebook_mode(connected=True)\n",
    "from plotly.offline import init_notebook_mode, iplot\n",
    "from plotly.graph_objs import *\n",
    "\n",
    "init_notebook_mode(connected=True)         # initiate notebook for offline plot\n",
    "\n",
    "import os\n",
    "import csv\n",
    "from collections import OrderedDict\n",
    "import sqlite3\n",
    "import pandas as pd\n",
    "import numpy as np\n",
    "from IPython.display import display, Image, SVG, Math, YouTubeVideo\n",
    "import urllib\n",
    "import calendar\n",
    "\n",
    "print 'The needed Python libraries have been imported'"
   ]
  },
  {
   "cell_type": "markdown",
   "metadata": {},
   "source": [
    "# 2. Connect to the WaMDaM SQLite on HydroSahre\n",
    "### Provide the HydroShare ID for your resource\n",
    "Example  \n",
    "https://www.hydroshare.org/resource/8760f63a1f5545c380a3dd7ec847cb61/\n",
    " \n",
    "resource_id='85e9fe85b08244198995558fe7d0e294'"
   ]
  },
  {
   "cell_type": "code",
   "execution_count": 2,
   "metadata": {
    "collapsed": false
   },
   "outputs": [
    {
     "name": "stdout",
     "output_type": "stream",
     "text": [
      "Connected to HydroShare\n",
      "123b2781b73742a18bfadd21124c6194\n",
      "Resource title\n",
      "Final datasets\n",
      "----------------------------\n",
      "Connected to the SQLite file= WEAP_No_OA.sqlite\n",
      "done\n"
     ]
    }
   ],
   "source": [
    "username = 'amabdallah'\n",
    "password = 'MyHydroShareWorld'\n",
    "\n",
    "auth = HydroShareAuthBasic(username=username, password=password)\n",
    "\n",
    "hs = HydroShare(auth=auth)\n",
    "\n",
    "print 'Connected to HydroShare'\n",
    "\n",
    "# Then we can run queries against it within this notebook :)  \n",
    "resource_url='https://www.hydroshare.org/resource/123b2781b73742a18bfadd21124c6194/' \n",
    "\n",
    "\n",
    "resource_id= resource_url.split(\"https://www.hydroshare.org/resource/\",1)[1] \n",
    "resource_id=resource_id.replace('/','')\n",
    "\n",
    "print resource_id\n",
    "\n",
    "resource_md = hs.getSystemMetadata(resource_id)\n",
    "# print resource_md\n",
    "print 'Resource title'\n",
    "print(resource_md['resource_title'])\n",
    "print '----------------------------'\n",
    "\n",
    "resources=hs.resource(resource_id).files.all()\n",
    "\n",
    "file = \"\"\n",
    "\n",
    "for f in hs.resource(resource_id).files.all():\n",
    "\n",
    "    file += f.decode('utf8')\n",
    "\n",
    "import json\n",
    "\n",
    "file_json = json.loads(file)\n",
    "\n",
    "for f in file_json[\"results\"]:\n",
    "\n",
    "    FileURL= f[\"url\"]\n",
    "    \n",
    "    SQLiteFileName=FileURL.split(\"contents/\",1)[1] \n",
    "\n",
    "cwd = os.getcwd()\n",
    "\n",
    "\n",
    "conn = sqlite3.connect(SQLiteFileName,timeout=10)\n",
    "\n",
    "print 'Connected to the SQLite file= '+ SQLiteFileName\n",
    "print 'done'"
   ]
  },
  {
   "cell_type": "markdown",
   "metadata": {},
   "source": [
    "<a name=\"Connect\"></a>\n",
    "# 4. Connect to the WaMDaM populated SQLite file published in HydroShare to query its data and serve them to WEAP scenarios\n"
   ]
  },
  {
   "cell_type": "code",
   "execution_count": 16,
   "metadata": {
    "collapsed": false,
    "scrolled": true
   },
   "outputs": [
    {
     "name": "stdout",
     "output_type": "stream",
     "text": [
      "  ResourceTypeAcronym\n",
      "0                WEAP\n",
      "--------------------\n",
      "\n",
      " Connected to the WaMDaM SQLite file called: WEAP.sqlite\n"
     ]
    }
   ],
   "source": [
    "# Then we can run queries against it within this notebook :)  \n",
    "\n",
    "# the SQLite file is published here \n",
    "#https://github.com/WamdamProject/WaMDaM_UseCases/blob/master/UseCases_files/3SQLite_database/BearRiverDatasets_June_2018.sqlite\n",
    "\n",
    "WaMDaM_SQLite_Name='WEAP.sqlite'\n",
    "# WaMDaM_SQLite_Name='replicateWaMDaM.sqlite'\n",
    "\n",
    "# Test if the connection works \n",
    "conn = sqlite3.connect(WaMDaM_SQLite_Name)\n",
    "df = pd.read_sql_query(\"SELECT ResourceTypeAcronym   FROM ResourceTypes Limit 1 \", conn)\n",
    "print df\n",
    "                       \n",
    "print '--------------------'                        \n",
    "print '\\n Connected to the WaMDaM SQLite file called'+': '+ WaMDaM_SQLite_Name"
   ]
  },
  {
   "cell_type": "markdown",
   "metadata": {},
   "source": [
    "<a name=\"ConnectWEAP\"></a>\n",
    "# 2. Connect to the WEAP API\n",
    "\n",
    "### You need to have WEAP already installed on your machine\n",
    "\n",
    "First make sure to have a copy of the Water Evaluation And Planning\" system (WEAP) installed on your local machine (Windows). If you don’t have it installed, download and install the WEAP software which allows you to run the Bear River WEAP model and its scenarios for Use Case 5. https://www.weap21.org/. You need to have a WEAP License. See here (https://www.weap21.org/index.asp?action=217). If you're interested to learning about WEAP API, check it out here: http://www.weap21.org/WebHelp/API.htm    \n",
    "\n",
    "\n",
    "## Install dependency and register WEAP\n",
    "### 2.1. Install pywin32 extensions which provide access to many of the Windows APIs from Python.\n",
    "**Choose on option**\n",
    "* a. Install using an executable basedon your python version. Use version for Python 2.7\n",
    "https://github.com/mhammond/pywin32/releases \n",
    "\n",
    "**OR**   \n",
    "\n",
    "* b. Install it using Anaconda terminal @ https://anaconda.org/anaconda/pywin32\n",
    "\n",
    "Type this command in the Anaconda terminal as Administrator  \n",
    "\n",
    "    conda install -c anaconda pywin32 \n",
    "\n",
    "\n",
    "**OR**\n",
    "\n",
    "* c. Install from source code (for advanced users) \n",
    "https://github.com/mhammond/pywin32\n",
    "\n",
    "\n",
    "### 2.2. Register WEAP with Windows \n",
    "\n",
    "\n",
    "This use case only works on a local Jupyter Notebook server installed on your machine along with WEAP. So it does not work on the online Notebooks in Step 2.1. You need to install Jupyter Server in Step 2.2 then proceed here.\n",
    "\n",
    "\n",
    "\n",
    "\n",
    "* **Register WEAP with Windows to allow the WEAP API to be accessed**    \n",
    "Use Windows \"Command Prompt\". Right click and then <font color=red>**run as Administrator**</font>, navigate to the WEAP installation directory such as and then hit enter  \n",
    "\n",
    "```\n",
    "cd C:\\Program Files (x86)\\WEAP\n",
    "```\n",
    "\n",
    "Then type the following command in the command prompt and hit enter   \n",
    "```\n",
    "WEAP /regserver\n",
    "```\n",
    "\n",
    "\n",
    "<img src=\"https://github.com/WamdamProject/WaMDaM-software-ecosystem/blob/master/mkdocs/Edit_MD_Files/QuerySelect/images/RegisterWEAP_CMD.png?raw=true\" style=\"float:center;width:700px;padding:20px\"> \n",
    "Figure 1: Register WEAP API with windows using the Command Prompt (Run as Administrator)\n"
   ]
  },
  {
   "cell_type": "markdown",
   "metadata": {},
   "source": [
    "\n",
    "# 3. Download the Bear River WEAP model and connect Jupyter Notebook to WEAP API\n",
    "\n",
    "Clone or download all this GitHub repo   \n",
    "https://github.com/WamdamProject/WaMDaM_UseCases  \n",
    "\n",
    "In your local repo folder, go to the    \n",
    "    \n",
    "    C:\\Users\\Adel\\Documents\\GitHub\\WaMDaM_UseCases/UseCases_files/1Original_Datasets_preperation_files/WEAP/Bear_River_WEAP_Model_2017\n",
    "\n",
    "Copy this folder **Bear_River_WEAP_Model_2017** and paste it into **WEAP Areas** folder on your local machine. For example, it is at   \n",
    "\n",
    "    C:\\Users\\Adel\\Documents\\WEAP Areas  \n"
   ]
  },
  {
   "cell_type": "code",
   "execution_count": 14,
   "metadata": {
    "collapsed": false,
    "scrolled": true
   },
   "outputs": [
    {
     "name": "stdout",
     "output_type": "stream",
     "text": [
      "Bear_River_WEAP_Model_2017_Conservation\n",
      "Bear_River_WEAP_Model_2017_Conservation\n",
      "Bear_River_WEAP_Model_2017_Conservation\n",
      "Connected to WEAP API and the Bear_River_WEAP_Model_2017_Conservation Area\n",
      "-------------\n",
      "-------------\n",
      "\n",
      " ActiveScenario= \n",
      "-------------\n",
      "C:\\Users\\Adel\\Documents\\WEAP Areas\\\n",
      "\n",
      " \n",
      " You're connected to the WEAP API\n"
     ]
    }
   ],
   "source": [
    "# this library is needed to connect to the WEAP API\n",
    "import win32com.client\n",
    "\n",
    "# this command will open the WEAP software (if closed) and get the last active model\n",
    "# you could change the active area to another one inside WEAP or by passing it to the command here\n",
    "#WEAP.ActiveArea = \"BearRiverFeb2017_V10.9\"\n",
    "\n",
    "\n",
    "WEAP=win32com.client.Dispatch(\"WEAP.WEAPApplication\")\n",
    "\n",
    "# WEAP.Visible = 'FALSE'\n",
    "\n",
    "\n",
    "print WEAP.ActiveArea.Name \n",
    "WEAP.ActiveArea = \"Bear_River_WEAP_Model_2017_Original\"  \n",
    "print WEAP.ActiveArea.Name \n",
    "\n",
    "WEAP.Areas(\"Bear_River_WEAP_Model_2017_Original\").Open\n",
    "WEAP.ActiveArea = \"Bear_River_WEAP_Model_2017_Original\"  \n",
    "print WEAP.ActiveArea.Name\n",
    "\n",
    "\n",
    "print 'Connected to WEAP API and the '+ WEAP.ActiveArea.Name + ' Area'\n",
    "print '-------------'\n",
    "if not WEAP.Registered:\n",
    "    print \"Because WEAP is not registered, you cannot use the API\"\n",
    "\n",
    "# get the active WEAP Area (model) to serve data into it \n",
    "\n",
    "# ActiveArea=WEAP.ActiveArea.Name \n",
    "\n",
    "\n",
    "# get the active WEAP scenario to serve data into it \n",
    "print '-------------'\n",
    "\n",
    "ActiveScenario= WEAP.ActiveScenario.Name\n",
    "print '\\n ActiveScenario= '+ActiveScenario\n",
    "print '-------------'\n",
    "\n",
    "WEAP_Area_dir=WEAP.AreasDirectory\n",
    "print WEAP_Area_dir\n",
    "\n",
    "\n",
    "print \"\\n \\n You're connected to the WEAP API\""
   ]
  },
  {
   "cell_type": "markdown",
   "metadata": {},
   "source": [
    "<a name=\"CreateWEAP_Area\"></a>\n",
    "# 3.1 Create a copy of the original WEAP Area to use while keeping the orignial as-as for any later use\n",
    "\n",
    "\n",
    "<a name=\"AddScenarios\"></a>\n",
    "### Add a new CacheCountyUrbanWaterUse scenario from the Reference original WEAP Area:  \n",
    "\n",
    "### You can always use this orignal one and delete any new copies you make afterwards."
   ]
  },
  {
   "cell_type": "code",
   "execution_count": 15,
   "metadata": {
    "collapsed": false
   },
   "outputs": [
    {
     "name": "stdout",
     "output_type": "stream",
     "text": [
      "ActiveArea= Bear_River_WEAP_Model_2017_Conservation\n",
      "ActiveArea= Bear_River_WEAP_Model_2017_Conservation\n",
      "---------------------- \n",
      "\n",
      "Scenarios added to the original WEAP area\n",
      "Connection with WEAP API is disconnected\n"
     ]
    }
   ],
   "source": [
    "# Create a copy of the WEAP AREA to serve the updated Hyrym Reservoir to it \n",
    "\n",
    "\n",
    "# Delete the Area if it exists and then add it. Start from fresh\n",
    "Area=\"Bear_River_WEAP_Model_2017_Conservation\"\n",
    "\n",
    "if not WEAP.Areas.Exists(Area):\n",
    "    WEAP.SaveAreaAs(Area)\n",
    "\n",
    "\n",
    "WEAP.ActiveArea.Save\n",
    "WEAP.ActiveArea = \"Bear_River_WEAP_Model_2017_Conservation\"  \n",
    "print  'ActiveArea= '+WEAP.ActiveArea.Name\n",
    "\n",
    "#  Add new Scenario\n",
    "#  Add(NewScenarioName, ParentScenarioName or Index):   \n",
    "#  Create a new scenario as a child of the parent scenario specified.    \n",
    "#  The new scenario will become the selected scenario in the Data View.  \n",
    "    \n",
    "    \n",
    "    \n",
    "WEAP=win32com.client.Dispatch(\"WEAP.WEAPApplication\")\n",
    "# WEAP.Visible = FALSE\n",
    "\n",
    "\n",
    "WEAP.ActiveArea = \"Bear_River_WEAP_Model_2017_Conservation\"  \n",
    "\n",
    "print  'ActiveArea= '+ WEAP.ActiveArea.Name\n",
    "\n",
    "Scenario=[]\n",
    "Scenario='CacheCountyUrbanWaterUse'\n",
    "\n",
    "# Delete the scenario if it exists and then add it. Start from fresh\n",
    "if WEAP.Scenarios.Exists(Scenario):\n",
    "    WEAP.Scenarios(Scenario).Delete(True)\n",
    "else:\n",
    "    WEAP.Scenarios.Add(Scenario,'Reference')\n",
    "    \n",
    "WEAP.ActiveArea.Save\n",
    "WEAP.SaveArea\n",
    "\n",
    "WEAP.Quit\n",
    "\n",
    "# or add the scenarios one by one using this command   \n",
    "    \n",
    "# Make a copy from the reference (base) scenario\n",
    "# WEAP.Scenarios.Add('UpdateCacheDemand','Reference')\n",
    "print '---------------------- \\n'\n",
    "print 'Scenarios added to the original WEAP area'    \n",
    "\n",
    "\n",
    "WEAP.Quit\n",
    "\n",
    "print 'Connection with WEAP API is disconnected'"
   ]
  },
  {
   "cell_type": "markdown",
   "metadata": {},
   "source": [
    "<a name=\"QuerySupplyDataLoadWEAP\"></a>\n",
    "# 4.1.A Query Cache County seasonal \"Monthly Demand\" for the three sites: Logan Potable, North Cache Potable, South Cache Potable\n",
    "\n",
    "### The data comes from OpenAgua"
   ]
  },
  {
   "cell_type": "code",
   "execution_count": 29,
   "metadata": {
    "collapsed": false
   },
   "outputs": [
    {
     "name": "stdout",
     "output_type": "stream",
     "text": [
      "{u'North Cache Potable': 'MonthlyValues(Oct,1352.57,Nov,735.715,Dec,301.5,Jan,301.5,Feb,735.72,Mar,1352.57,Apr,2668.99,May,3385.79,Jun,3747.638,Jul,3747.64,Aug,3385.79,Sep,2565.613)', u'Logan Potable': 'MonthlyValues(Oct,6719.475,Nov,4651.256,Dec,3195.416,Jan,3195.416,Feb,4651.26,Mar,6719.475,Apr,11133.21,May,13536.51,Jun,14749.71,Jul,14749.71,Aug,13536.51,Sep,10786.59)', u'South Cache Potable': 'MonthlyValues(Oct,10870.66,Nov,6832.357,Dec,3989.75,Jan,3989.75,Feb,6832.36,Mar,10870.66,Apr,19488.72,May,24181.28,Jun,26550.12,Jul,26550.12,Aug,24181.28,Sep,18811.91)'}\n",
      "Query and data preperation are done\n"
     ]
    }
   ],
   "source": [
    "# Use Case 3.1Identify_aggregate_TimeSeriesValues.csv\n",
    "# plot aggregated to monthly and converted to acre-feet time series data of multiple sources\n",
    "\n",
    "\n",
    "# Logan Potable\n",
    "# North Cache Potable\n",
    "# South Cache Potable\n",
    "\n",
    "# 2.2Identify_aggregate_TimeSeriesValues.csv\n",
    "Query_UseCase_URL=\"\"\"\n",
    "https://raw.githubusercontent.com/WamdamProject/WaMDaM_JupyterNotebooks/master/3_VisualizeShare/WEAP/Query_demand_sites.sql\n",
    "\"\"\"\n",
    "\n",
    "# Read the query text inside the URL\n",
    "Query_UseCase_text = urllib.urlopen(Query_UseCase_URL).read()\n",
    "\n",
    "\n",
    "# return query result in a pandas data frame\n",
    "result_df_UseCase= pd.read_sql_query(Query_UseCase_text, conn)\n",
    "\n",
    "# uncomment the below line to see the list of attributes\n",
    "# display (result_df_UseCase)\n",
    "seasons_dict = dict()\n",
    "\n",
    "subsets = result_df_UseCase.groupby('InstanceName')\n",
    "for subset in subsets.groups.keys():\n",
    "    df_Seasonal = subsets.get_group(name=subset)\n",
    "    df_Seasonal=df_Seasonal.reset_index()\n",
    "    SeasonalParam = ''\n",
    "    for i in range(len(df_Seasonal['SeasonName'])):\n",
    "        m_data = df_Seasonal['SeasonName'][i]\n",
    "        n_data = float(df_Seasonal['SeasonNumericValue'][i])*10\n",
    "        SeasonalParam += '{},{}'.format(m_data, n_data)\n",
    "        if i != len(df_Seasonal['SeasonName']) - 1:\n",
    "            SeasonalParam += ','\n",
    "\n",
    "    Seasonal_value=\"MonthlyValues(\"+SeasonalParam+\")\"\n",
    "    seasons_dict[subset]=(Seasonal_value)   \n",
    "print seasons_dict\n",
    "\n",
    "print 'Query and data preperation are done'"
   ]
  },
  {
   "cell_type": "markdown",
   "metadata": {},
   "source": [
    "<a name=\"LoadFlow\"></a>\n",
    "# 4.1.B Load the seasonal demand data with conservation  into WEAP"
   ]
  },
  {
   "cell_type": "code",
   "execution_count": 30,
   "metadata": {
    "collapsed": false
   },
   "outputs": [
    {
     "name": "stdout",
     "output_type": "stream",
     "text": [
      "Bear_River_WEAP_Model_2017_Conservation\n",
      "CacheCountyUrbanWaterUse\n",
      "\n",
      " The seasonal dry headflow data have been sucsesfully loaded into WEAP\n",
      "\n",
      " \n",
      " The updated data have been saved\n"
     ]
    }
   ],
   "source": [
    "# 9. Load the seasonal data into WEAP\n",
    "WEAP=win32com.client.Dispatch(\"WEAP.WEAPApplication\")\n",
    "# WEAP.Visible = FALSE\n",
    "\n",
    "\n",
    "print WEAP.ActiveArea.Name\n",
    "\n",
    "WEAP.ActiveScenario = \"CacheCountyUrbanWaterUse\"\n",
    "print WEAP.ActiveScenario.Name\n",
    "\n",
    "\n",
    "DemandSites=['Logan Potable','North Cache Potable','South Cache Potable']\n",
    "\n",
    "AttributeName='Monthly Demand'\n",
    "\n",
    "# Get the Instance Name and Attribute names and pass them to \n",
    "# the function below to load their values into WEAP\n",
    "\n",
    "# Seasonal_value contains the string of month value pairs \n",
    "\n",
    "for Branch in WEAP.Branches:\n",
    "    for InstanceName in seasons_dict.keys():\n",
    "        if Branch.Name == InstanceName:\n",
    "            GetInstanceFullBranch = Branch.FullName\n",
    "            WEAP.Branch(GetInstanceFullBranch).Variable(AttributeName).Expression = seasons_dict[InstanceName]\n",
    "\n",
    "print '\\n The seasonal dry headflow data have been sucsesfully loaded into WEAP'\n",
    "\n",
    "WEAP.SaveArea\n",
    "\n",
    "print '\\n \\n The updated data have been saved'"
   ]
  },
  {
   "cell_type": "markdown",
   "metadata": {},
   "source": [
    "# 5. Run WEAP and report back the unment demand at the Bird Refuge demand site\n",
    "\n",
    "<font color=green>**Please wait, it will take ~3-7 minutes** to finish calcualting the two WEAP Areas with their many scenarios</font>"
   ]
  },
  {
   "cell_type": "code",
   "execution_count": 31,
   "metadata": {
    "collapsed": false
   },
   "outputs": [
    {
     "name": "stdout",
     "output_type": "stream",
     "text": [
      "Bear_River_WEAP_Model_2017_Conservation\n",
      "Bear_River_WEAP_Model_2017_Conservation\n",
      "\n",
      " \n",
      " The calculation has been done and saved\n",
      "115\n",
      "\n",
      "-----------------------\n",
      "scenario=Reference\n",
      "\n",
      "-----------------------\n",
      "scenario=CacheCountyUrbanWaterUse\n"
     ]
    }
   ],
   "source": [
    "# Run WEAP\n",
    "\n",
    "WEAP.Areas(\"Bear_River_WEAP_Model_2017_Conservation\").Open\n",
    "print WEAP.ActiveArea.Name\n",
    "\n",
    "WEAP.ActiveArea = \"Bear_River_WEAP_Model_2017_Conservation\"  \n",
    "print WEAP.ActiveArea.Name\n",
    "\n",
    "WEAP.Calculate(2006,10,True)\n",
    "WEAP.SaveArea\n",
    "\n",
    "print '\\n \\n The calculation has been done and saved'\n",
    "print WEAP.CalculationTime\n",
    "\n",
    "UnmetDemandEstimate={}\n",
    "Scenarios=[]\n",
    "Scenarios=['Reference','CacheCountyUrbanWaterUse']\n",
    "DemandSites=['Logan Potable','North Cache Potable','South Cache Potable']\n",
    "for scen in Scenarios:\n",
    "        print '\\n-----------------------'\n",
    "        print 'scenario='+ scen\n",
    "        for year in range (1966,2006):\n",
    "#         print 'Total Unmet Demand in 2002 for the Bird Refuge in Acre-feet='\n",
    "            UnmetDemandEstimate[scen,year,'Logan Potable']=WEAP.ResultValue(\"\\Demand Sites\\Logan Potable: Unmet Demand[Acre-Foot]\", year, 1, scen, year, WEAP.NumTimeSteps) \n",
    "            UnmetDemandEstimate[scen,year,'North Cache Potable']=WEAP.ResultValue(\"\\Demand Sites\\North Cache Potable: Unmet Demand[Acre-Foot]\", year, 1, scen, year, WEAP.NumTimeSteps) \n",
    "            UnmetDemandEstimate[scen,year,'South Cache Potable']=WEAP.ResultValue(\"\\Demand Sites\\South Cache Potable: Unmet Demand[Acre-Foot]\", year, 1, scen, year, WEAP.NumTimeSteps) \n",
    "\n",
    "\n",
    "# print UnmetDemandEstimate\n",
    "WEAP.SaveArea\n",
    "WEAP.Quit        \n",
    "WEAP.SaveArea\n",
    "keys = UnmetDemandEstimate.keys()\n",
    "vals = UnmetDemandEstimate.values()\n",
    "keys,values = zip(*UnmetDemandEstimate.items())\n",
    "\n",
    "\n"
   ]
  },
  {
   "cell_type": "markdown",
   "metadata": {},
   "source": [
    "# 5.1 post process the result "
   ]
  },
  {
   "cell_type": "code",
   "execution_count": 34,
   "metadata": {
    "collapsed": false
   },
   "outputs": [
    {
     "name": "stdout",
     "output_type": "stream",
     "text": [
      "MonthlyValues( Oct, 42150,  Nov, 3406,  Dec, 0,  Jan, 0,  Feb, 4258,  Mar, 60884,  Apr, 59181,  May, 61309,  Jun, 46834,  Jul, 50240,  Aug, 43002,  Sep, 54497 )\n",
      "Annual_Demand=425761.0\n"
     ]
    }
   ],
   "source": [
    "WEAPArea=['Bear_River_WEAP_Model_2017_Conservation']\n",
    "Scenarios=['Reference','CacheCountyUrbanWaterUse']\n",
    "\n",
    "UnmetDemandEstimate = pd.DataFrame(columns = ['Reference','CacheCountyUrbanWaterUse'])\n",
    "  \n",
    "for scen in Scenarios:\n",
    "    for year in range (1966,2006):\n",
    "#         print '\\n-----------------------'\n",
    "#         print 'scenario='+ scen\n",
    "#         print 'Total Unmet Demand in 2002 for the Bird Refuge in Acre-feet='\n",
    "\n",
    "        value=WEAP.ResultValue(\"\\Demand Sites\\Bird Refuge: Unmet Demand[Acre-Foot]\", year, 1, scen, year, WEAP.NumTimeSteps) \n",
    "        if scen=='Reference':\n",
    "            UnmetDemandEstimate.loc[year, ['Reference']]=value\n",
    "        else:\n",
    "            scen=='CacheCountyUrbanWaterUse'\n",
    "            UnmetDemandEstimate.loc[year, ['CacheCountyUrbanWaterUse']]=value\n",
    "\n",
    "\n",
    "\n",
    "            \n",
    "# find annual demand at the Bird Refuge\n",
    "for Branch in WEAP.Branches:\n",
    "    for V in Branch.Variables:\n",
    "        if Branch.Name == 'Bird Refuge' and V.Name== 'Monthly Demand':\n",
    "            GetExpresValue = V.Expression\n",
    "\n",
    "print GetExpresValue\n",
    "ExpresValue1 = GetExpresValue.split('MonthlyValues(')[-1].split(')')[0].split(',')\n",
    "# print ExpresValue1\n",
    "it = iter(ExpresValue1)     \n",
    "Demand=dict(zip(it, it))\n",
    "# print Demand\n",
    "Annual_Demand=0\n",
    "\n",
    "for key in Demand:\n",
    "    x= Demand[key] \n",
    "    Annual_Demand=Annual_Demand+float(x)\n",
    "print 'Annual_Demand='+ str(Annual_Demand)"
   ]
  },
  {
   "cell_type": "code",
   "execution_count": 53,
   "metadata": {
    "collapsed": false
   },
   "outputs": [
    {
     "name": "stdout",
     "output_type": "stream",
     "text": [
      "[1966, 1967, 1968, 1969, 1970, 1971, 1972, 1973, 1974, 1975, 1976, 1977, 1978, 1979, 1980, 1981, 1982, 1983, 1984, 1985, 1986, 1987, 1988, 1989, 1990, 1991, 1992, 1993, 1994, 1995, 1996, 1997, 1998, 1999, 2000, 2001, 2002, 2003, 2004, 2005]\n"
     ]
    }
   ],
   "source": []
  },
  {
   "cell_type": "markdown",
   "metadata": {},
   "source": [
    "# 6. Plot the unmet demad for all the scenarios  and years\n"
   ]
  },
  {
   "cell_type": "code",
   "execution_count": 35,
   "metadata": {
    "collapsed": false,
    "scrolled": true
   },
   "outputs": [
    {
     "data": {
      "application/vnd.plotly.v1+json": {
       "data": [
        {
         "boxmean": true,
         "marker": {
          "color": "#BFB2FF"
         },
         "name": "Reference",
         "type": "box",
         "y": [
          0.5452759138251575,
          0,
          0,
          0,
          0,
          0,
          0,
          0,
          0,
          0,
          0,
          0.5772756797028578,
          0,
          0.8486336379828955,
          0,
          2.224623342225924,
          0,
          0,
          0,
          0,
          0,
          0.399357002749332,
          4.203488527449066,
          0.9305530363448272,
          3.3625348241368953,
          0.7257545690022581,
          7.632552128573367,
          0,
          6.881228491285422,
          0,
          0,
          0,
          0,
          0,
          0.36223728042448194,
          4.023009872271966,
          6.82578745027145,
          7.835300911026389,
          9.730581403890776,
          0
         ]
        },
        {
         "boxmean": true,
         "marker": {
          "color": "#260F99"
         },
         "name": " CacheCountyUrbanWaterUse",
         "type": "box",
         "y": [
          0.5452759138251575,
          0,
          0,
          0,
          0,
          0,
          0,
          0,
          0,
          0,
          0,
          0,
          0,
          0.09983924592695638,
          0,
          1.5014287514472409,
          0,
          0,
          0,
          0,
          0,
          0,
          3.4214143804036397,
          0.14079895462867548,
          2.572780742420744,
          0,
          6.140723704856922,
          0,
          6.538191047537752,
          0,
          0,
          0,
          0,
          0,
          0,
          3.267815534657089,
          5.2782090561387704,
          6.267943970749832,
          8.185485165344401,
          0
         ]
        }
       ],
       "layout": {
        "font": {
         "color": "#00000f",
         "family": "arial",
         "size": 25
        },
        "height": 700,
        "legend": {
         "bordercolor": "#00000f",
         "borderwidth": 2,
         "x": 0.1,
         "y": 0.6
        },
        "margin": {
         "b": 200,
         "l": 130
        },
        "showlegend": false,
        "width": 1100,
        "xaxis": {
         "tickfont": {
          "size": 22
         },
         "ticklen": 10,
         "ticks": "outside"
        },
        "yaxis": {
         "dtick": "5",
         "range": [
          "0",
          "15"
         ],
         "tickformat": ",",
         "ticklen": 10,
         "ticks": "outside",
         "title": "Annual unmet demand (%)"
        }
       }
      },
      "text/html": [
       "<div id=\"988cd4f6-0ef3-4383-9cdb-0e2b55be6c66\" style=\"height: 700px; width: 1100px;\" class=\"plotly-graph-div\"></div><script type=\"text/javascript\">require([\"plotly\"], function(Plotly) { window.PLOTLYENV=window.PLOTLYENV || {};window.PLOTLYENV.BASE_URL=\"https://plot.ly\";Plotly.newPlot(\"988cd4f6-0ef3-4383-9cdb-0e2b55be6c66\", [{\"marker\": {\"color\": \"#BFB2FF\"}, \"y\": [0.5452759138251575, 0.0, 0.0, 0.0, 0.0, 0.0, 0.0, 0.0, 0.0, 0.0, 0.0, 0.5772756797028578, 0.0, 0.8486336379828955, 0.0, 2.224623342225924, 0.0, 0.0, 0.0, 0.0, 0.0, 0.399357002749332, 4.203488527449066, 0.9305530363448272, 3.3625348241368953, 0.7257545690022581, 7.632552128573367, 0.0, 6.881228491285422, 0.0, 0.0, 0.0, 0.0, 0.0, 0.36223728042448194, 4.023009872271966, 6.82578745027145, 7.835300911026389, 9.730581403890776, 0.0], \"type\": \"box\", \"name\": \"Reference\", \"boxmean\": true}, {\"marker\": {\"color\": \"#260F99\"}, \"y\": [0.5452759138251575, 0.0, 0.0, 0.0, 0.0, 0.0, 0.0, 0.0, 0.0, 0.0, 0.0, 0.0, 0.0, 0.09983924592695638, 0.0, 1.5014287514472409, 0.0, 0.0, 0.0, 0.0, 0.0, 0.0, 3.4214143804036397, 0.14079895462867548, 2.572780742420744, 0.0, 6.140723704856922, 0.0, 6.538191047537752, 0.0, 0.0, 0.0, 0.0, 0.0, 0.0, 3.267815534657089, 5.2782090561387704, 6.267943970749832, 8.185485165344401, 0.0], \"type\": \"box\", \"name\": \" CacheCountyUrbanWaterUse\", \"boxmean\": true}], {\"showlegend\": false, \"yaxis\": {\"ticks\": \"outside\", \"tickformat\": \",\", \"title\": \"Annual unmet demand (%)\", \"ticklen\": 10, \"dtick\": \"5\", \"range\": [\"0\", \"15\"]}, \"height\": 700, \"width\": 1100, \"xaxis\": {\"tickfont\": {\"size\": 22}, \"ticklen\": 10, \"ticks\": \"outside\"}, \"font\": {\"color\": \"#00000f\", \"family\": \"arial\", \"size\": 25}, \"margin\": {\"b\": 200, \"l\": 130}, \"legend\": {\"bordercolor\": \"#00000f\", \"y\": 0.6, \"borderwidth\": 2, \"x\": 0.1}}, {\"linkText\": \"Export to plot.ly\", \"showLink\": true})});</script>"
      ],
      "text/vnd.plotly.v1+html": [
       "<div id=\"988cd4f6-0ef3-4383-9cdb-0e2b55be6c66\" style=\"height: 700px; width: 1100px;\" class=\"plotly-graph-div\"></div><script type=\"text/javascript\">require([\"plotly\"], function(Plotly) { window.PLOTLYENV=window.PLOTLYENV || {};window.PLOTLYENV.BASE_URL=\"https://plot.ly\";Plotly.newPlot(\"988cd4f6-0ef3-4383-9cdb-0e2b55be6c66\", [{\"marker\": {\"color\": \"#BFB2FF\"}, \"y\": [0.5452759138251575, 0.0, 0.0, 0.0, 0.0, 0.0, 0.0, 0.0, 0.0, 0.0, 0.0, 0.5772756797028578, 0.0, 0.8486336379828955, 0.0, 2.224623342225924, 0.0, 0.0, 0.0, 0.0, 0.0, 0.399357002749332, 4.203488527449066, 0.9305530363448272, 3.3625348241368953, 0.7257545690022581, 7.632552128573367, 0.0, 6.881228491285422, 0.0, 0.0, 0.0, 0.0, 0.0, 0.36223728042448194, 4.023009872271966, 6.82578745027145, 7.835300911026389, 9.730581403890776, 0.0], \"type\": \"box\", \"name\": \"Reference\", \"boxmean\": true}, {\"marker\": {\"color\": \"#260F99\"}, \"y\": [0.5452759138251575, 0.0, 0.0, 0.0, 0.0, 0.0, 0.0, 0.0, 0.0, 0.0, 0.0, 0.0, 0.0, 0.09983924592695638, 0.0, 1.5014287514472409, 0.0, 0.0, 0.0, 0.0, 0.0, 0.0, 3.4214143804036397, 0.14079895462867548, 2.572780742420744, 0.0, 6.140723704856922, 0.0, 6.538191047537752, 0.0, 0.0, 0.0, 0.0, 0.0, 0.0, 3.267815534657089, 5.2782090561387704, 6.267943970749832, 8.185485165344401, 0.0], \"type\": \"box\", \"name\": \" CacheCountyUrbanWaterUse\", \"boxmean\": true}], {\"showlegend\": false, \"yaxis\": {\"ticks\": \"outside\", \"tickformat\": \",\", \"title\": \"Annual unmet demand (%)\", \"ticklen\": 10, \"dtick\": \"5\", \"range\": [\"0\", \"15\"]}, \"height\": 700, \"width\": 1100, \"xaxis\": {\"tickfont\": {\"size\": 22}, \"ticklen\": 10, \"ticks\": \"outside\"}, \"font\": {\"color\": \"#00000f\", \"family\": \"arial\", \"size\": 25}, \"margin\": {\"b\": 200, \"l\": 130}, \"legend\": {\"bordercolor\": \"#00000f\", \"y\": 0.6, \"borderwidth\": 2, \"x\": 0.1}}, {\"linkText\": \"Export to plot.ly\", \"showLink\": true})});</script>"
      ]
     },
     "metadata": {},
     "output_type": "display_data"
    },
    {
     "name": "stdout",
     "output_type": "stream",
     "text": [
      "Figure 9 is replicated!!\n"
     ]
    }
   ],
   "source": [
    "import numpy\n",
    "\n",
    "import plotly.plotly as py\n",
    "import plotly.graph_objs as go\n",
    "# xx=['Reference','Cache County <br> demand','Hyrum  <br> Bathymetry','Headflow <br> supply']\n",
    "# print UnmetDemandEstimate[['Reference','year']]\n",
    "\n",
    "Reference_vals =UnmetDemandEstimate['Reference'].tolist()\n",
    "CacheCountyUrbanWaterUse_vals =UnmetDemandEstimate['CacheCountyUrbanWaterUse'].tolist()\n",
    "\n",
    "# print Reference_vals\n",
    "\n",
    "\n",
    "Reference_vals_perc =(numpy.array([Reference_vals]))/Annual_Demand*100\n",
    "CacheCountyUrbanWaterUse_vals_perc =(numpy.array([CacheCountyUrbanWaterUse_vals]))/Annual_Demand*100\n",
    "\n",
    "    \n",
    "\n",
    "# print UpdateBearHeadFlowDry_vals_perc.tolist()\n",
    "\n",
    "\n",
    "UnmetDemandEstimate['Reference']\n",
    "\n",
    "trace1 = go.Box(\n",
    "\n",
    "    y=Reference_vals_perc[0],\n",
    "    name = 'Reference',\n",
    "    marker = dict(\n",
    "        color = '#BFB2FF',\n",
    "    \n",
    "    ),boxmean=True\n",
    ")\n",
    "\n",
    "\n",
    "trace2 = go.Box(\n",
    "\n",
    "    y=CacheCountyUrbanWaterUse_vals_perc[0],\n",
    "    name = ' CacheCountyUrbanWaterUse',\n",
    "    marker = dict(\n",
    "        color = '#260F99'\n",
    "    ),boxmean=True\n",
    ")\n",
    "\n",
    "layout = dict(\n",
    "    #title = \"Use Case 3.3\",\n",
    "    yaxis = dict(\n",
    "        title = \"Annual unmet demand (%)\",\n",
    "        tickformat= ',',\n",
    "#         showline=True,\n",
    "        dtick='5',\n",
    "        ticks='outside',\n",
    "        ticklen=10,\n",
    "         range = ['0', '15']\n",
    "\n",
    "\n",
    "                ),\n",
    "    \n",
    "    xaxis = dict(\n",
    "#         title = \"Updated input parameters in the <br>Bear_River_WEAP_Model_2017\",\n",
    "#         showline=True,\n",
    "        ticks='outside',\n",
    "         tickfont=dict(size=22),\n",
    "        ticklen=10\n",
    "                    ),\n",
    "    legend=dict(\n",
    "        x=0.1,y=0.6,\n",
    "          bordercolor='#00000f',\n",
    "            borderwidth=2\n",
    "        \n",
    "               ),\n",
    "    width=1100,\n",
    "    height=700,\n",
    "    #paper_bgcolor='rgb(233,233,233)',\n",
    "    #plot_bgcolor='rgb(233,233,233)',\n",
    "    margin=go.Margin(l=130,b=200),\n",
    "    font=dict(size=25,family='arial',color='#00000f'),\n",
    "    showlegend=False\n",
    ")\n",
    "data = [trace1, trace2]\n",
    "\n",
    "\n",
    "# create a figure object\n",
    "fig = dict(data=data, layout=layout)\n",
    "#py.iplot(fig, filename = \"2.3Identify_SeasonalValues\") \n",
    "\n",
    "\n",
    "## it can be run from the local machine on Pycharm like this like below\n",
    "## It would also work here offline but in a seperate window  \n",
    "offline.iplot(fig,filename = 'jupyter/UnmentDemand@BirdRefuge' )       \n",
    "\n",
    "print \"Figure 9 is replicated!!\""
   ]
  },
  {
   "cell_type": "markdown",
   "metadata": {},
   "source": [
    "# Plot 2"
   ]
  },
  {
   "cell_type": "markdown",
   "metadata": {},
   "source": [
    "<a name=\"Close\"></a>\n",
    "# 7. Close the SQLite and WEAP API connections"
   ]
  },
  {
   "cell_type": "code",
   "execution_count": 66,
   "metadata": {
    "collapsed": false
   },
   "outputs": [
    {
     "data": {
      "application/vnd.plotly.v1+json": {
       "data": [
        {
         "marker": {
          "color": "#BFB2FF"
         },
         "mode": "lines+markers",
         "name": "Reference",
         "type": "scatter",
         "x": [
          1966,
          1967,
          1968,
          1969,
          1970,
          1971,
          1972,
          1973,
          1974,
          1975,
          1976,
          1977,
          1978,
          1979,
          1980,
          1981,
          1982,
          1983,
          1984,
          1985,
          1986,
          1987,
          1988,
          1989,
          1990,
          1991,
          1992,
          1993,
          1994,
          1995,
          1996,
          1997,
          1998,
          1999,
          2000,
          2001,
          2002,
          2003,
          2004,
          2005
         ],
         "y": [
          2321.5721834611286,
          0,
          0,
          0,
          0,
          0,
          0,
          0,
          0,
          0,
          0,
          2457.814706659684,
          0,
          3613.151063412356,
          0,
          9471.578588094515,
          0,
          0,
          0,
          0,
          0,
          1700.3063684755834,
          17896.81478935242,
          3961.9319130721,
          14316.361892593486,
          3089.979910529704,
          32496.43026813525,
          0,
          29297.58723678173,
          0,
          0,
          0,
          0,
          0,
          1542.2650675080786,
          17128.407062283844,
          29061.54090615023,
          33359.65551179506,
          41429.0206910194,
          0
         ]
        },
        {
         "marker": {
          "color": "#260F99"
         },
         "mode": "lines+markers",
         "name": " CacheCountyUrbanWaterUse",
         "type": "scatter",
         "x": [
          1966,
          1967,
          1968,
          1969,
          1970,
          1971,
          1972,
          1973,
          1974,
          1975,
          1976,
          1977,
          1978,
          1979,
          1980,
          1981,
          1982,
          1983,
          1984,
          1985,
          1986,
          1987,
          1988,
          1989,
          1990,
          1991,
          1992,
          1993,
          1994,
          1995,
          1996,
          1997,
          1998,
          1999,
          2000,
          2001,
          2002,
          2003,
          2004,
          2005
         ],
         "y": [
          2321.5721834611286,
          0,
          0,
          0,
          0,
          0,
          0,
          0,
          0,
          0,
          0,
          0,
          0,
          425.07657185106876,
          0,
          6392.498066449287,
          0,
          0,
          0,
          0,
          0,
          0,
          14567.04808015034,
          599.467037216595,
          10953.897016737983,
          0,
          26144.806653035877,
          0,
          27837.067585907207,
          0,
          0,
          0,
          0,
          0,
          0,
          13913.084098511368,
          22472.55565950699,
          26686.460929304198,
          34850.603494821975,
          0
         ]
        }
       ],
       "layout": {
        "font": {
         "color": "#00000f",
         "family": "arial",
         "size": 25
        },
        "legend": {
         "bordercolor": "#00000f",
         "borderwidth": 2,
         "x": 0.1,
         "y": 0.6
        },
        "margin": {
         "b": 200,
         "l": 130
        },
        "showlegend": false,
        "xaxis": {
         "ticks": "outside"
        },
        "yaxis": {
         "tickformat": ",",
         "title": "Annual unmet demand (%)"
        }
       }
      },
      "text/html": [
       "<div id=\"ed1010b5-f3ae-4012-b5ed-c633a616f0e4\" style=\"height: 525px; width: 100%;\" class=\"plotly-graph-div\"></div><script type=\"text/javascript\">require([\"plotly\"], function(Plotly) { window.PLOTLYENV=window.PLOTLYENV || {};window.PLOTLYENV.BASE_URL=\"https://plot.ly\";Plotly.newPlot(\"ed1010b5-f3ae-4012-b5ed-c633a616f0e4\", [{\"name\": \"Reference\", \"marker\": {\"color\": \"#BFB2FF\"}, \"mode\": \"lines+markers\", \"y\": [2321.5721834611286, 0.0, 0.0, 0.0, 0.0, 0.0, 0.0, 0.0, 0.0, 0.0, 0.0, 2457.814706659684, 0.0, 3613.151063412356, 0.0, 9471.578588094515, 0.0, 0.0, 0.0, 0.0, 0.0, 1700.3063684755834, 17896.81478935242, 3961.9319130721, 14316.361892593486, 3089.979910529704, 32496.43026813525, 0.0, 29297.58723678173, 0.0, 0.0, 0.0, 0.0, 0.0, 1542.2650675080786, 17128.407062283844, 29061.54090615023, 33359.65551179506, 41429.0206910194, 0.0], \"x\": [1966, 1967, 1968, 1969, 1970, 1971, 1972, 1973, 1974, 1975, 1976, 1977, 1978, 1979, 1980, 1981, 1982, 1983, 1984, 1985, 1986, 1987, 1988, 1989, 1990, 1991, 1992, 1993, 1994, 1995, 1996, 1997, 1998, 1999, 2000, 2001, 2002, 2003, 2004, 2005], \"type\": \"scatter\"}, {\"name\": \" CacheCountyUrbanWaterUse\", \"marker\": {\"color\": \"#260F99\"}, \"mode\": \"lines+markers\", \"y\": [2321.5721834611286, 0.0, 0.0, 0.0, 0.0, 0.0, 0.0, 0.0, 0.0, 0.0, 0.0, 0.0, 0.0, 425.07657185106876, 0.0, 6392.498066449287, 0.0, 0.0, 0.0, 0.0, 0.0, 0.0, 14567.04808015034, 599.467037216595, 10953.897016737983, 0.0, 26144.806653035877, 0.0, 27837.067585907207, 0.0, 0.0, 0.0, 0.0, 0.0, 0.0, 13913.084098511368, 22472.55565950699, 26686.460929304198, 34850.603494821975, 0.0], \"x\": [1966, 1967, 1968, 1969, 1970, 1971, 1972, 1973, 1974, 1975, 1976, 1977, 1978, 1979, 1980, 1981, 1982, 1983, 1984, 1985, 1986, 1987, 1988, 1989, 1990, 1991, 1992, 1993, 1994, 1995, 1996, 1997, 1998, 1999, 2000, 2001, 2002, 2003, 2004, 2005], \"type\": \"scatter\"}], {\"showlegend\": false, \"yaxis\": {\"tickformat\": \",\", \"title\": \"Annual unmet demand (%)\"}, \"xaxis\": {\"ticks\": \"outside\"}, \"font\": {\"color\": \"#00000f\", \"family\": \"arial\", \"size\": 25}, \"margin\": {\"b\": 200, \"l\": 130}, \"legend\": {\"bordercolor\": \"#00000f\", \"y\": 0.6, \"borderwidth\": 2, \"x\": 0.1}}, {\"linkText\": \"Export to plot.ly\", \"showLink\": true})});</script>"
      ],
      "text/vnd.plotly.v1+html": [
       "<div id=\"ed1010b5-f3ae-4012-b5ed-c633a616f0e4\" style=\"height: 525px; width: 100%;\" class=\"plotly-graph-div\"></div><script type=\"text/javascript\">require([\"plotly\"], function(Plotly) { window.PLOTLYENV=window.PLOTLYENV || {};window.PLOTLYENV.BASE_URL=\"https://plot.ly\";Plotly.newPlot(\"ed1010b5-f3ae-4012-b5ed-c633a616f0e4\", [{\"name\": \"Reference\", \"marker\": {\"color\": \"#BFB2FF\"}, \"mode\": \"lines+markers\", \"y\": [2321.5721834611286, 0.0, 0.0, 0.0, 0.0, 0.0, 0.0, 0.0, 0.0, 0.0, 0.0, 2457.814706659684, 0.0, 3613.151063412356, 0.0, 9471.578588094515, 0.0, 0.0, 0.0, 0.0, 0.0, 1700.3063684755834, 17896.81478935242, 3961.9319130721, 14316.361892593486, 3089.979910529704, 32496.43026813525, 0.0, 29297.58723678173, 0.0, 0.0, 0.0, 0.0, 0.0, 1542.2650675080786, 17128.407062283844, 29061.54090615023, 33359.65551179506, 41429.0206910194, 0.0], \"x\": [1966, 1967, 1968, 1969, 1970, 1971, 1972, 1973, 1974, 1975, 1976, 1977, 1978, 1979, 1980, 1981, 1982, 1983, 1984, 1985, 1986, 1987, 1988, 1989, 1990, 1991, 1992, 1993, 1994, 1995, 1996, 1997, 1998, 1999, 2000, 2001, 2002, 2003, 2004, 2005], \"type\": \"scatter\"}, {\"name\": \" CacheCountyUrbanWaterUse\", \"marker\": {\"color\": \"#260F99\"}, \"mode\": \"lines+markers\", \"y\": [2321.5721834611286, 0.0, 0.0, 0.0, 0.0, 0.0, 0.0, 0.0, 0.0, 0.0, 0.0, 0.0, 0.0, 425.07657185106876, 0.0, 6392.498066449287, 0.0, 0.0, 0.0, 0.0, 0.0, 0.0, 14567.04808015034, 599.467037216595, 10953.897016737983, 0.0, 26144.806653035877, 0.0, 27837.067585907207, 0.0, 0.0, 0.0, 0.0, 0.0, 0.0, 13913.084098511368, 22472.55565950699, 26686.460929304198, 34850.603494821975, 0.0], \"x\": [1966, 1967, 1968, 1969, 1970, 1971, 1972, 1973, 1974, 1975, 1976, 1977, 1978, 1979, 1980, 1981, 1982, 1983, 1984, 1985, 1986, 1987, 1988, 1989, 1990, 1991, 1992, 1993, 1994, 1995, 1996, 1997, 1998, 1999, 2000, 2001, 2002, 2003, 2004, 2005], \"type\": \"scatter\"}], {\"showlegend\": false, \"yaxis\": {\"tickformat\": \",\", \"title\": \"Annual unmet demand (%)\"}, \"xaxis\": {\"ticks\": \"outside\"}, \"font\": {\"color\": \"#00000f\", \"family\": \"arial\", \"size\": 25}, \"margin\": {\"b\": 200, \"l\": 130}, \"legend\": {\"bordercolor\": \"#00000f\", \"y\": 0.6, \"borderwidth\": 2, \"x\": 0.1}}, {\"linkText\": \"Export to plot.ly\", \"showLink\": true})});</script>"
      ]
     },
     "metadata": {},
     "output_type": "display_data"
    },
    {
     "name": "stdout",
     "output_type": "stream",
     "text": [
      "Figure 9 is replicated!!\n"
     ]
    }
   ],
   "source": [
    "import numpy\n",
    "\n",
    "import plotly.plotly as py\n",
    "import plotly.graph_objs as go\n",
    "# xx=['Reference','Cache County <br> demand','Hyrum  <br> Bathymetry','Headflow <br> supply']\n",
    "# print UnmetDemandEstimate[['Reference','year']]\n",
    "\n",
    "Reference_vals =UnmetDemandEstimate['Reference'].tolist()\n",
    "CacheCountyUrbanWaterUse_vals =UnmetDemandEstimate['CacheCountyUrbanWaterUse'].tolist()\n",
    "Years=UnmetDemandEstimate.index.tolist()\n",
    "\n",
    "UnmetDemandEstimate['Reference']\n",
    "\n",
    "trace1 = go.Scatter(\n",
    "\n",
    "    x=Years,\n",
    "    y=Reference_vals,\n",
    "    mode = 'lines+markers',\n",
    "    name = 'Reference',\n",
    "    marker = dict(\n",
    "        color = '#BFB2FF',\n",
    "    \n",
    "    )\n",
    ")\n",
    "\n",
    "\n",
    "trace2 = go.Scatter(\n",
    "\n",
    "    x=Years,\n",
    "    y=CacheCountyUrbanWaterUse_vals,\n",
    "    name = ' CacheCountyUrbanWaterUse',\n",
    "    mode = 'lines+markers',\n",
    "    marker = dict(\n",
    "        color = '#260F99'\n",
    "    )\n",
    ")\n",
    "\n",
    "layout = dict(\n",
    "    #title = \"Use Case 3.3\",\n",
    "    yaxis = dict(\n",
    "        title = \"Annual unmet demand (%)\",\n",
    "        tickformat= ',',\n",
    "#         showline=True,\n",
    "#         dtick='5',\n",
    "#         ticks='outside',\n",
    "#         ticklen=10,\n",
    "#          range = ['0', '15']\n",
    "\n",
    "\n",
    "                ),\n",
    "    \n",
    "    xaxis = dict(\n",
    "#         title = \"Updated input parameters in the <br>Bear_River_WEAP_Model_2017\",\n",
    "#         showline=True,\n",
    "        ticks='outside',\n",
    "#          tickfont=dict(size=22),\n",
    "#         ticklen=10\n",
    "                    ),\n",
    "    legend=dict(\n",
    "        x=0.1,y=0.6,\n",
    "          bordercolor='#00000f',\n",
    "            borderwidth=2\n",
    "        \n",
    "               ),\n",
    "#     width=1100,\n",
    "#     height=700,\n",
    "    #paper_bgcolor='rgb(233,233,233)',\n",
    "    #plot_bgcolor='rgb(233,233,233)',\n",
    "    margin=go.Margin(l=130,b=200),\n",
    "    font=dict(size=25,family='arial',color='#00000f'),\n",
    "    showlegend=False\n",
    ")\n",
    "data = [trace1, trace2]\n",
    "\n",
    "\n",
    "# create a figure object\n",
    "fig = dict(data=data, layout=layout)\n",
    "#py.iplot(fig, filename = \"2.3Identify_SeasonalValues\") \n",
    "\n",
    "\n",
    "## it can be run from the local machine on Pycharm like this like below\n",
    "## It would also work here offline but in a seperate window  \n",
    "offline.iplot(fig,filename = 'jupyter/UnmentDemand@BirdRefuge' )       \n",
    "\n",
    "print \"Figure 9 is replicated!!\""
   ]
  },
  {
   "cell_type": "markdown",
   "metadata": {},
   "source": [
    "# plot 3"
   ]
  },
  {
   "cell_type": "code",
   "execution_count": 69,
   "metadata": {
    "collapsed": false
   },
   "outputs": [
    {
     "data": {
      "application/vnd.plotly.v1+json": {
       "data": [
        {
         "marker": {
          "color": "#BFB2FF"
         },
         "mode": "markers",
         "name": "Reference",
         "type": "scatter",
         "x": [
          2321.5721834611286,
          0,
          0,
          0,
          0,
          0,
          0,
          0,
          0,
          0,
          0,
          0,
          0,
          425.07657185106876,
          0,
          6392.498066449287,
          0,
          0,
          0,
          0,
          0,
          0,
          14567.04808015034,
          599.467037216595,
          10953.897016737983,
          0,
          26144.806653035877,
          0,
          27837.067585907207,
          0,
          0,
          0,
          0,
          0,
          0,
          13913.084098511368,
          22472.55565950699,
          26686.460929304198,
          34850.603494821975,
          0
         ],
         "y": [
          2321.5721834611286,
          0,
          0,
          0,
          0,
          0,
          0,
          0,
          0,
          0,
          0,
          2457.814706659684,
          0,
          3613.151063412356,
          0,
          9471.578588094515,
          0,
          0,
          0,
          0,
          0,
          1700.3063684755834,
          17896.81478935242,
          3961.9319130721,
          14316.361892593486,
          3089.979910529704,
          32496.43026813525,
          0,
          29297.58723678173,
          0,
          0,
          0,
          0,
          0,
          1542.2650675080786,
          17128.407062283844,
          29061.54090615023,
          33359.65551179506,
          41429.0206910194,
          0
         ]
        }
       ],
       "layout": {
        "font": {
         "color": "#00000f",
         "family": "arial",
         "size": 25
        },
        "legend": {
         "bordercolor": "#00000f",
         "borderwidth": 2,
         "x": 0.1,
         "y": 0.6
        },
        "margin": {
         "b": 200,
         "l": 130
        },
        "showlegend": false,
        "xaxis": {
         "ticks": "outside"
        },
        "yaxis": {
         "tickformat": ",",
         "title": "Annual unmet demand (%)"
        }
       }
      },
      "text/html": [
       "<div id=\"31786b0e-c077-4d5f-a562-c093b74b0f05\" style=\"height: 525px; width: 100%;\" class=\"plotly-graph-div\"></div><script type=\"text/javascript\">require([\"plotly\"], function(Plotly) { window.PLOTLYENV=window.PLOTLYENV || {};window.PLOTLYENV.BASE_URL=\"https://plot.ly\";Plotly.newPlot(\"31786b0e-c077-4d5f-a562-c093b74b0f05\", [{\"name\": \"Reference\", \"marker\": {\"color\": \"#BFB2FF\"}, \"mode\": \"markers\", \"y\": [2321.5721834611286, 0.0, 0.0, 0.0, 0.0, 0.0, 0.0, 0.0, 0.0, 0.0, 0.0, 2457.814706659684, 0.0, 3613.151063412356, 0.0, 9471.578588094515, 0.0, 0.0, 0.0, 0.0, 0.0, 1700.3063684755834, 17896.81478935242, 3961.9319130721, 14316.361892593486, 3089.979910529704, 32496.43026813525, 0.0, 29297.58723678173, 0.0, 0.0, 0.0, 0.0, 0.0, 1542.2650675080786, 17128.407062283844, 29061.54090615023, 33359.65551179506, 41429.0206910194, 0.0], \"x\": [2321.5721834611286, 0.0, 0.0, 0.0, 0.0, 0.0, 0.0, 0.0, 0.0, 0.0, 0.0, 0.0, 0.0, 425.07657185106876, 0.0, 6392.498066449287, 0.0, 0.0, 0.0, 0.0, 0.0, 0.0, 14567.04808015034, 599.467037216595, 10953.897016737983, 0.0, 26144.806653035877, 0.0, 27837.067585907207, 0.0, 0.0, 0.0, 0.0, 0.0, 0.0, 13913.084098511368, 22472.55565950699, 26686.460929304198, 34850.603494821975, 0.0], \"type\": \"scatter\"}], {\"showlegend\": false, \"yaxis\": {\"tickformat\": \",\", \"title\": \"Annual unmet demand (%)\"}, \"xaxis\": {\"ticks\": \"outside\"}, \"font\": {\"color\": \"#00000f\", \"family\": \"arial\", \"size\": 25}, \"margin\": {\"b\": 200, \"l\": 130}, \"legend\": {\"bordercolor\": \"#00000f\", \"y\": 0.6, \"borderwidth\": 2, \"x\": 0.1}}, {\"linkText\": \"Export to plot.ly\", \"showLink\": true})});</script>"
      ],
      "text/vnd.plotly.v1+html": [
       "<div id=\"31786b0e-c077-4d5f-a562-c093b74b0f05\" style=\"height: 525px; width: 100%;\" class=\"plotly-graph-div\"></div><script type=\"text/javascript\">require([\"plotly\"], function(Plotly) { window.PLOTLYENV=window.PLOTLYENV || {};window.PLOTLYENV.BASE_URL=\"https://plot.ly\";Plotly.newPlot(\"31786b0e-c077-4d5f-a562-c093b74b0f05\", [{\"name\": \"Reference\", \"marker\": {\"color\": \"#BFB2FF\"}, \"mode\": \"markers\", \"y\": [2321.5721834611286, 0.0, 0.0, 0.0, 0.0, 0.0, 0.0, 0.0, 0.0, 0.0, 0.0, 2457.814706659684, 0.0, 3613.151063412356, 0.0, 9471.578588094515, 0.0, 0.0, 0.0, 0.0, 0.0, 1700.3063684755834, 17896.81478935242, 3961.9319130721, 14316.361892593486, 3089.979910529704, 32496.43026813525, 0.0, 29297.58723678173, 0.0, 0.0, 0.0, 0.0, 0.0, 1542.2650675080786, 17128.407062283844, 29061.54090615023, 33359.65551179506, 41429.0206910194, 0.0], \"x\": [2321.5721834611286, 0.0, 0.0, 0.0, 0.0, 0.0, 0.0, 0.0, 0.0, 0.0, 0.0, 0.0, 0.0, 425.07657185106876, 0.0, 6392.498066449287, 0.0, 0.0, 0.0, 0.0, 0.0, 0.0, 14567.04808015034, 599.467037216595, 10953.897016737983, 0.0, 26144.806653035877, 0.0, 27837.067585907207, 0.0, 0.0, 0.0, 0.0, 0.0, 0.0, 13913.084098511368, 22472.55565950699, 26686.460929304198, 34850.603494821975, 0.0], \"type\": \"scatter\"}], {\"showlegend\": false, \"yaxis\": {\"tickformat\": \",\", \"title\": \"Annual unmet demand (%)\"}, \"xaxis\": {\"ticks\": \"outside\"}, \"font\": {\"color\": \"#00000f\", \"family\": \"arial\", \"size\": 25}, \"margin\": {\"b\": 200, \"l\": 130}, \"legend\": {\"bordercolor\": \"#00000f\", \"y\": 0.6, \"borderwidth\": 2, \"x\": 0.1}}, {\"linkText\": \"Export to plot.ly\", \"showLink\": true})});</script>"
      ]
     },
     "metadata": {},
     "output_type": "display_data"
    },
    {
     "name": "stdout",
     "output_type": "stream",
     "text": [
      "Figure 9 is replicated!!\n"
     ]
    }
   ],
   "source": [
    "import numpy\n",
    "\n",
    "import plotly.plotly as py\n",
    "import plotly.graph_objs as go\n",
    "# xx=['Reference','Cache County <br> demand','Hyrum  <br> Bathymetry','Headflow <br> supply']\n",
    "# print UnmetDemandEstimate[['Reference','year']]\n",
    "\n",
    "Reference_vals =UnmetDemandEstimate['Reference'].tolist()\n",
    "CacheCountyUrbanWaterUse_vals =UnmetDemandEstimate['CacheCountyUrbanWaterUse'].tolist()\n",
    "Years=UnmetDemandEstimate.index.tolist()\n",
    "\n",
    "UnmetDemandEstimate['Reference']\n",
    "\n",
    "trace1 = go.Scatter(\n",
    "\n",
    "    x=CacheCountyUrbanWaterUse_vals,\n",
    "    y=Reference_vals,\n",
    "    mode = 'markers',\n",
    "    name = 'Reference',\n",
    "    marker = dict(\n",
    "        color = '#BFB2FF',\n",
    "    \n",
    "    )\n",
    ")\n",
    "\n",
    "\n",
    "# trace2 = go.Scatter(\n",
    "\n",
    "#     x=Years,\n",
    "#     y=CacheCountyUrbanWaterUse_vals,\n",
    "#     name = ' CacheCountyUrbanWaterUse',\n",
    "#     mode = 'lines+markers',\n",
    "#     marker = dict(\n",
    "#         color = '#260F99'\n",
    "#     )\n",
    "# )\n",
    "\n",
    "layout = dict(\n",
    "    #title = \"Use Case 3.3\",\n",
    "    yaxis = dict(\n",
    "        title = \"Annual unmet demand (%)\",\n",
    "        tickformat= ',',\n",
    "#         showline=True,\n",
    "#         dtick='5',\n",
    "#         ticks='outside',\n",
    "#         ticklen=10,\n",
    "#          range = ['0', '15']\n",
    "\n",
    "\n",
    "                ),\n",
    "    \n",
    "    xaxis = dict(\n",
    "#         title = \"Updated input parameters in the <br>Bear_River_WEAP_Model_2017\",\n",
    "#         showline=True,\n",
    "        ticks='outside',\n",
    "#          tickfont=dict(size=22),\n",
    "#         ticklen=10\n",
    "                    ),\n",
    "    legend=dict(\n",
    "        x=0.1,y=0.6,\n",
    "          bordercolor='#00000f',\n",
    "            borderwidth=2\n",
    "        \n",
    "               ),\n",
    "#     width=1100,\n",
    "#     height=700,\n",
    "    #paper_bgcolor='rgb(233,233,233)',\n",
    "    #plot_bgcolor='rgb(233,233,233)',\n",
    "    margin=go.Margin(l=130,b=200),\n",
    "    font=dict(size=25,family='arial',color='#00000f'),\n",
    "    showlegend=False\n",
    ")\n",
    "# data = [trace1, trace2]\n",
    "\n",
    "data = [trace1]\n",
    "\n",
    "# create a figure object\n",
    "fig = dict(data=data, layout=layout)\n",
    "#py.iplot(fig, filename = \"2.3Identify_SeasonalValues\") \n",
    "\n",
    "\n",
    "## it can be run from the local machine on Pycharm like this like below\n",
    "## It would also work here offline but in a seperate window  \n",
    "offline.iplot(fig,filename = 'jupyter/UnmentDemand@BirdRefuge' )       \n",
    "\n",
    "print \"Figure 9 is replicated!!\""
   ]
  },
  {
   "cell_type": "code",
   "execution_count": 36,
   "metadata": {
    "collapsed": false,
    "scrolled": true
   },
   "outputs": [
    {
     "name": "stdout",
     "output_type": "stream",
     "text": [
      "connection disconnected\n",
      "Connection with WEAP API is disconnected\n"
     ]
    }
   ],
   "source": [
    "# 9. Close the SQLite and WEAP API connections\n",
    "conn.close()\n",
    "\n",
    "print 'connection disconnected'\n",
    "\n",
    "# Uncomment \n",
    "# WEAP.SaveArea\n",
    "\n",
    "# Or \n",
    "# NewWEAPCopyName=ActiveArea+\"Test\"\n",
    "# print NewWEAPCopyName\n",
    "\n",
    "# Call API function to save WEAP\n",
    "# WEAP.SaveAreaAS(NewWEAPCopyName)\n",
    "\n",
    "# this command will close WEAP\n",
    "# WEAP.Quit\n",
    "\n",
    "print 'Connection with WEAP API is disconnected'"
   ]
  },
  {
   "cell_type": "markdown",
   "metadata": {},
   "source": [
    "# The End :) Congratulations!"
   ]
  }
 ],
 "metadata": {
  "kernelspec": {
   "display_name": "Python 2",
   "language": "python",
   "name": "python2"
  },
  "language_info": {
   "codemirror_mode": {
    "name": "ipython",
    "version": 2
   },
   "file_extension": ".py",
   "mimetype": "text/x-python",
   "name": "python",
   "nbconvert_exporter": "python",
   "pygments_lexer": "ipython2",
   "version": "2.7.13"
  }
 },
 "nbformat": 4,
 "nbformat_minor": 2
}
